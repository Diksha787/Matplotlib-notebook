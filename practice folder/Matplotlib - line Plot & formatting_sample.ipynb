{
 "cells": [
  {
   "cell_type": "markdown",
   "metadata": {},
   "source": [
    "# line Plot"
   ]
  },
  {
   "cell_type": "code",
   "execution_count": 8,
   "metadata": {},
   "outputs": [
    {
     "name": "stdout",
     "output_type": "stream",
     "text": [
      "Requirement already satisfied: matplotlib in c:\\python3.10.4\\lib\\site-packages (3.5.2)\n",
      "Requirement already satisfied: cycler>=0.10 in c:\\python3.10.4\\lib\\site-packages (from matplotlib) (0.11.0)\n",
      "Requirement already satisfied: fonttools>=4.22.0 in c:\\python3.10.4\\lib\\site-packages (from matplotlib) (4.33.3)\n",
      "Requirement already satisfied: numpy>=1.17 in c:\\python3.10.4\\lib\\site-packages (from matplotlib) (1.22.4)\n",
      "Requirement already satisfied: pillow>=6.2.0 in c:\\python3.10.4\\lib\\site-packages (from matplotlib) (9.1.1)\n",
      "Requirement already satisfied: pyparsing>=2.2.1 in c:\\python3.10.4\\lib\\site-packages (from matplotlib) (3.0.9)\n",
      "Requirement already satisfied: packaging>=20.0 in c:\\python3.10.4\\lib\\site-packages (from matplotlib) (21.3)\n",
      "Requirement already satisfied: kiwisolver>=1.0.1 in c:\\python3.10.4\\lib\\site-packages (from matplotlib) (1.4.3)\n",
      "Requirement already satisfied: python-dateutil>=2.7 in c:\\python3.10.4\\lib\\site-packages (from matplotlib) (2.8.2)\n",
      "Requirement already satisfied: six>=1.5 in c:\\python3.10.4\\lib\\site-packages (from python-dateutil>=2.7->matplotlib) (1.16.0)\n",
      "Note: you may need to restart the kernel to use updated packages.\n"
     ]
    }
   ],
   "source": [
    "pip install matplotlib"
   ]
  },
  {
   "cell_type": "code",
   "execution_count": 9,
   "metadata": {},
   "outputs": [],
   "source": [
    "import matplotlib.pyplot as plt "
   ]
  },
  {
   "cell_type": "code",
   "execution_count": 10,
   "metadata": {},
   "outputs": [
    {
     "data": {
      "text/plain": [
       "['Solarize_Light2',\n",
       " '_classic_test_patch',\n",
       " '_mpl-gallery',\n",
       " '_mpl-gallery-nogrid',\n",
       " 'bmh',\n",
       " 'classic',\n",
       " 'dark_background',\n",
       " 'fast',\n",
       " 'fivethirtyeight',\n",
       " 'ggplot',\n",
       " 'grayscale',\n",
       " 'seaborn',\n",
       " 'seaborn-bright',\n",
       " 'seaborn-colorblind',\n",
       " 'seaborn-dark',\n",
       " 'seaborn-dark-palette',\n",
       " 'seaborn-darkgrid',\n",
       " 'seaborn-deep',\n",
       " 'seaborn-muted',\n",
       " 'seaborn-notebook',\n",
       " 'seaborn-paper',\n",
       " 'seaborn-pastel',\n",
       " 'seaborn-poster',\n",
       " 'seaborn-talk',\n",
       " 'seaborn-ticks',\n",
       " 'seaborn-white',\n",
       " 'seaborn-whitegrid',\n",
       " 'tableau-colorblind10']"
      ]
     },
     "execution_count": 10,
     "metadata": {},
     "output_type": "execute_result"
    }
   ],
   "source": [
    "# availables styles\n",
    "plt.style.available"
   ]
  },
  {
   "cell_type": "markdown",
   "metadata": {},
   "source": [
    "* Format Strings\n",
    "\n",
    "A format string consists of a part for color, marker and line:\n",
    "```python\n",
    "fmt = '[marker][line][color]'\n",
    "```\n",
    "\n",
    "\n",
    "**Markers**\n",
    "\n",
    "|character|\tdescription|\n",
    "|--|--|\n",
    "|**.**|\tpoint marker|\n",
    "|**,**|\tpixel marker|\n",
    "|**o**|\tcircle marker|\n",
    "|**v**|\ttriangle_down marker|\n",
    "|**^**|\ttriangle_up marker|\n",
    "|**<**|\ttriangle_left marker|\n",
    "|**>**|\ttriangle_right marker|\n",
    "|**1**|\ttri_down marker|\n",
    "|**2**|\ttri_up marker|\n",
    "|**3**|\ttri_left marker|\n",
    "|**4**|\ttri_right marker|\n",
    "|**s**|\tsquare marker|\n",
    "|**p**|\tpentagon marker|\n",
    "|*****|\tstar marker|\n",
    "|**h**|\thexagon1 marker|\n",
    "|**H**|\thexagon2 marker|\n",
    "|**+**|\tplus marker|\n",
    "|**x**|\tx marker|\n",
    "|**D**|\tdiamond marker|\n",
    "|**d**|\tthin_diamond marker|\n",
    "|**'**|\tvline marker|\n",
    "|**_**|\thline marker|\n",
    "\n",
    "\n",
    "**Line Styles**\n",
    "\n",
    "|character|\tdescription|\n",
    "|--|--|\n",
    "|**-**| solid line style|\n",
    "|**--**\t|dashed line style|\n",
    "| **-.**|dash-dot line style|\n",
    "| **:**\t|dotted line style|\n",
    "\n",
    "|Example| format strings:|\n",
    "|--|--|\n",
    "|**b**|   blue markers with default shape|\n",
    "|**or**|   red circles|\n",
    "|**-g**|   green solid line|\n",
    "|**--**|   dashed line with default color|\n",
    "|**^k:**|  black triangle_up markers connected by a dotted line|\n",
    "\n",
    "\n",
    "**Colors**\n",
    "\n",
    "The supported color abbreviations are the single letter codes\n",
    "\n",
    "\n",
    "|character\t|color|\n",
    "|--|--|\n",
    "|**b**|\tblue|\n",
    "|**g**| green|\n",
    "|**r**| red|\n",
    "|**c**|\tcyan|\n",
    "|**m**|\tmagenta|\n",
    "|**y**|\tyellow|\n",
    "|**k**|\tblack|\n",
    "|**w**|\twhite|"
   ]
  },
  {
   "cell_type": "code",
   "execution_count": 5,
   "metadata": {},
   "outputs": [],
   "source": [
    "#days = [1,2,3,4,5,6,7,8,9,10,11,12,13,14,15]\n",
    "\n",
    "#temperature = [36.6, 37, 37.7,39,40.1,43,43.4,45,45.6,40.1,44,45,46.8,47,47.8]\n",
    "\n"
   ]
  },
  {
   "cell_type": "code",
   "execution_count": 11,
   "metadata": {},
   "outputs": [
    {
     "data": {
      "text/plain": [
       "'\"plt.plot(days, temperature)\\nplt.axis([0,30, 0,50])\\nplt.title(\"Delhi Temperature\")\\nplt.xlabel(\"days\")\\nplt.ylabel(\"temperature\")\\nplt.show()'"
      ]
     },
     "execution_count": 11,
     "metadata": {},
     "output_type": "execute_result"
    }
   ],
   "source": [
    "days = [1,2,3,4,5,6,7,8,9,10,11,12,13,14,15]\n",
    "temperature = [36.6, 37, 37.7,39,40.1,43,43.4,45,45.6,40.1,44,45,46.8,47,47.8]\n",
    "\n",
    "\"\"\"\"plt.plot(days, temperature)\n",
    "plt.axis([0,30, 0,50])\n",
    "plt.title(\"Delhi Temperature\")\n",
    "plt.xlabel(\"days\")\n",
    "plt.ylabel(\"temperature\")\n",
    "plt.show()\"\"\""
   ]
  },
  {
   "cell_type": "code",
   "execution_count": 12,
   "metadata": {},
   "outputs": [
    {
     "data": {
      "image/png": "[encoded data removed]",
      "text/plain": [
       "<Figure size 432x288 with 1 Axes>"
      ]
     },
     "metadata": {
      "needs_background": "light"
     },
     "output_type": "display_data"
    }
   ],
   "source": [
    "days = [1,2,3,4,5,6,7,8,9,10,11,12,13,14,15]\n",
    "temperature = [36.6, 37, 37.7,39,40.1,43,43.4,45,45.6,40.1,44,45,46.8,47,47.8]\n",
    "plt.axis([0,30, 0,50])\n",
    "plt.title(\"Delhi Temperature\")\n",
    "plt.xlabel(\"days\")\n",
    "plt.ylabel(\"temperature\")\n",
    "plt.show()\n"
   ]
  },
  {
   "cell_type": "code",
   "execution_count": 13,
   "metadata": {},
   "outputs": [],
   "source": [
    "from matplotlib import style\n",
    "days = [1,2,3,4,5,6,7,8,9,10,11,12,13,14,15]\n",
    "temperature = [36.6, 37, 37.7,39,40.1,43,43.4,45,45.6,40.1,44,45,46.8,47,47.8]\n",
    "\n"
   ]
  },
  {
   "cell_type": "code",
   "execution_count": 14,
   "metadata": {},
   "outputs": [
    {
     "data": {
      "text/plain": [
       "[<matplotlib.lines.Line2D at 0x1a5b095fa90>]"
      ]
     },
     "execution_count": 14,
     "metadata": {},
     "output_type": "execute_result"
    },
    {
     "data": {
      "image/png": "[encoded data removed]",
      "text/plain": [
       "<Figure size 432x288 with 1 Axes>"
      ]
     },
     "metadata": {
      "needs_background": "light"
     },
     "output_type": "display_data"
    }
   ],
   "source": [
    "days = [1,2,3,4,5,6,7,8,9,10,11,12,13,14,15]\n",
    "delhi_tem = [36.6, 37, 37.7,39,40.1,43,43.4,45,45.6,40.1,44,45,46.8,47,47.8]\n",
    "mumbai_tem = [39,39.4,40,40.7,41,42.5,43.5,44,44.9,44,45,45.1,46,47,46]\n",
    "\n",
    "plt.plot(days, delhi_tem, \"mo--\", linewidth = 3,\n",
    "        markersize = 10, label = \"Delhi tem\")\n",
    "\n",
    "plt.plot(days, mumbai_tem, \"yo:\", linewidth = 3,\n",
    "        markersize = 10, label = \"Mumbai tem}\")\n",
    "\n"
   ]
  },
  {
   "cell_type": "code",
   "execution_count": null,
   "metadata": {},
   "outputs": [],
   "source": []
  },
  {
   "cell_type": "code",
   "execution_count": 15,
   "metadata": {},
   "outputs": [
    {
     "name": "stdout",
     "output_type": "stream",
     "text": [
      "Thank you!\n"
     ]
    }
   ],
   "source": [
    "print(\"Thank you!\")"
   ]
  },
  {
   "cell_type": "code",
   "execution_count": null,
   "metadata": {},
   "outputs": [],
   "source": [
    "\n"
   ]
  }
 ],
 "metadata": {
  "kernelspec": {
   "display_name": "Python 3 (ipykernel)",
   "language": "python",
   "name": "python3"
  },
  "language_info": {
   "codemirror_mode": {
    "name": "ipython",
    "version": 3
   },
   "file_extension": ".py",
   "mimetype": "text/x-python",
   "name": "python",
   "nbconvert_exporter": "python",
   "pygments_lexer": "ipython3",
   "version": "3.10.4"
  }
 },
 "nbformat": 4,
 "nbformat_minor": 2
}
