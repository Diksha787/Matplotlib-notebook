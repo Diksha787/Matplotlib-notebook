{
 "cells": [
  {
   "cell_type": "markdown",
   "id": "62209d4f",
   "metadata": {},
   "source": [
    "A churn model is a mathematical representation of how churn impacts our business. Churn calculations are built on existing data (the number of customers who left your service during a given time period). A predictive churn model extrapolates on the data to show future potential churn rates"
   ]
  },
  {
   "cell_type": "code",
   "execution_count": 25,
   "id": "dd4df3d0",
   "metadata": {},
   "outputs": [],
   "source": [
    "import numpy as np\n",
    "import pandas as pd\n",
    "import matplotlib.pyplot as plt\n",
    "from matplotlib import style"
   ]
  },
  {
   "cell_type": "code",
   "execution_count": 26,
   "id": "8f59c311",
   "metadata": {},
   "outputs": [],
   "source": [
    "churn_df=pd.read_csv(\"Churn_Modelling.csv\")"
   ]
  },
  {
   "cell_type": "code",
   "execution_count": 27,
   "id": "d6e1e31c",
   "metadata": {},
   "outputs": [
    {
     "data": {
      "text/html": [
       "<div>\n",
       "<style scoped>\n",
       "    .dataframe tbody tr th:only-of-type {\n",
       "        vertical-align: middle;\n",
       "    }\n",
       "\n",
       "    .dataframe tbody tr th {\n",
       "        vertical-align: top;\n",
       "    }\n",
       "\n",
       "    .dataframe thead th {\n",
       "        text-align: right;\n",
       "    }\n",
       "</style>\n",
       "<table border=\"1\" class=\"dataframe\">\n",
       "  <thead>\n",
       "    <tr style=\"text-align: right;\">\n",
       "      <th></th>\n",
       "      <th>RowNumber</th>\n",
       "      <th>CustomerId</th>\n",
       "      <th>Surname</th>\n",
       "      <th>CreditScore</th>\n",
       "      <th>Geography</th>\n",
       "      <th>Gender</th>\n",
       "      <th>Age</th>\n",
       "      <th>Tenure</th>\n",
       "      <th>Balance</th>\n",
       "      <th>NumOfProducts</th>\n",
       "      <th>HasCrCard</th>\n",
       "      <th>IsActiveMember</th>\n",
       "      <th>EstimatedSalary</th>\n",
       "      <th>Exited</th>\n",
       "    </tr>\n",
       "  </thead>\n",
       "  <tbody>\n",
       "    <tr>\n",
       "      <th>0</th>\n",
       "      <td>1</td>\n",
       "      <td>15634602</td>\n",
       "      <td>Hargrave</td>\n",
       "      <td>619</td>\n",
       "      <td>France</td>\n",
       "      <td>Female</td>\n",
       "      <td>42</td>\n",
       "      <td>2</td>\n",
       "      <td>0.00</td>\n",
       "      <td>1</td>\n",
       "      <td>1</td>\n",
       "      <td>1</td>\n",
       "      <td>101348.88</td>\n",
       "      <td>1</td>\n",
       "    </tr>\n",
       "    <tr>\n",
       "      <th>1</th>\n",
       "      <td>2</td>\n",
       "      <td>15647311</td>\n",
       "      <td>Hill</td>\n",
       "      <td>608</td>\n",
       "      <td>Spain</td>\n",
       "      <td>Female</td>\n",
       "      <td>41</td>\n",
       "      <td>1</td>\n",
       "      <td>83807.86</td>\n",
       "      <td>1</td>\n",
       "      <td>0</td>\n",
       "      <td>1</td>\n",
       "      <td>112542.58</td>\n",
       "      <td>0</td>\n",
       "    </tr>\n",
       "    <tr>\n",
       "      <th>2</th>\n",
       "      <td>3</td>\n",
       "      <td>15619304</td>\n",
       "      <td>Onio</td>\n",
       "      <td>502</td>\n",
       "      <td>France</td>\n",
       "      <td>Female</td>\n",
       "      <td>42</td>\n",
       "      <td>8</td>\n",
       "      <td>159660.80</td>\n",
       "      <td>3</td>\n",
       "      <td>1</td>\n",
       "      <td>0</td>\n",
       "      <td>113931.57</td>\n",
       "      <td>1</td>\n",
       "    </tr>\n",
       "    <tr>\n",
       "      <th>3</th>\n",
       "      <td>4</td>\n",
       "      <td>15701354</td>\n",
       "      <td>Boni</td>\n",
       "      <td>699</td>\n",
       "      <td>France</td>\n",
       "      <td>Female</td>\n",
       "      <td>39</td>\n",
       "      <td>1</td>\n",
       "      <td>0.00</td>\n",
       "      <td>2</td>\n",
       "      <td>0</td>\n",
       "      <td>0</td>\n",
       "      <td>93826.63</td>\n",
       "      <td>0</td>\n",
       "    </tr>\n",
       "    <tr>\n",
       "      <th>4</th>\n",
       "      <td>5</td>\n",
       "      <td>15737888</td>\n",
       "      <td>Mitchell</td>\n",
       "      <td>850</td>\n",
       "      <td>Spain</td>\n",
       "      <td>Female</td>\n",
       "      <td>43</td>\n",
       "      <td>2</td>\n",
       "      <td>125510.82</td>\n",
       "      <td>1</td>\n",
       "      <td>1</td>\n",
       "      <td>1</td>\n",
       "      <td>79084.10</td>\n",
       "      <td>0</td>\n",
       "    </tr>\n",
       "  </tbody>\n",
       "</table>\n",
       "</div>"
      ],
      "text/plain": [
       "   RowNumber  CustomerId   Surname  CreditScore Geography  Gender  Age  \\\n",
       "0          1    15634602  Hargrave          619    France  Female   42   \n",
       "1          2    15647311      Hill          608     Spain  Female   41   \n",
       "2          3    15619304      Onio          502    France  Female   42   \n",
       "3          4    15701354      Boni          699    France  Female   39   \n",
       "4          5    15737888  Mitchell          850     Spain  Female   43   \n",
       "\n",
       "   Tenure    Balance  NumOfProducts  HasCrCard  IsActiveMember  \\\n",
       "0       2       0.00              1          1               1   \n",
       "1       1   83807.86              1          0               1   \n",
       "2       8  159660.80              3          1               0   \n",
       "3       1       0.00              2          0               0   \n",
       "4       2  125510.82              1          1               1   \n",
       "\n",
       "   EstimatedSalary  Exited  \n",
       "0        101348.88       1  \n",
       "1        112542.58       0  \n",
       "2        113931.57       1  \n",
       "3         93826.63       0  \n",
       "4         79084.10       0  "
      ]
     },
     "execution_count": 27,
     "metadata": {},
     "output_type": "execute_result"
    }
   ],
   "source": [
    "churn_df.head()"
   ]
  },
  {
   "cell_type": "code",
   "execution_count": 28,
   "id": "9cb2883a",
   "metadata": {},
   "outputs": [
    {
     "data": {
      "text/plain": [
       "Index(['RowNumber', 'CustomerId', 'Surname', 'CreditScore', 'Geography',\n",
       "       'Gender', 'Age', 'Tenure', 'Balance', 'NumOfProducts', 'HasCrCard',\n",
       "       'IsActiveMember', 'EstimatedSalary', 'Exited'],\n",
       "      dtype='object')"
      ]
     },
     "execution_count": 28,
     "metadata": {},
     "output_type": "execute_result"
    }
   ],
   "source": [
    "churn_df.columns"
   ]
  },
  {
   "cell_type": "code",
   "execution_count": 20,
   "id": "573e24b9",
   "metadata": {},
   "outputs": [],
   "source": [
    "# 1) RowNumber : Serial number\n",
    "# 2) CustomerId : Unique Ids for bank customer identification\n",
    "# 3) Surname : Customer's last name\n",
    "# 4) CreditScore : Credit score of the customer\n",
    "# 5) Geography : The country from which the customer belongs\n",
    "# 6) Gender : Male or Female\n",
    "# 7) Age : The age of the customer\n",
    "# 8) Tenure : Number of years for which the customer has been with the bank\n",
    "# 9) Balance : Bank balance of the customer\n",
    "# 10) NumOfProducts : Number of bank products the customer is utilising\n",
    "# 11) HasCrCard : Binary Flag for whether the customer holds a credit card with the bank or not\n",
    "# 12) IsActiveMember : Binary Flag for whether the customer is an active member with the bank or not\n",
    "# 13) EstimatedSalary : Estimated salary of the customer in Dollars\n",
    "# 14) Exited : Binary flag 1 if the customer closed account with bank and 0 if the customer is retained.\n"
   ]
  },
  {
   "cell_type": "markdown",
   "id": "dfa12f2b",
   "metadata": {},
   "source": [
    "## 1. Number of customers in each country"
   ]
  },
  {
   "cell_type": "code",
   "execution_count": 32,
   "id": "35b2c583",
   "metadata": {},
   "outputs": [
    {
     "data": {
      "text/plain": [
       "<BarContainer object of 3 artists>"
      ]
     },
     "execution_count": 32,
     "metadata": {},
     "output_type": "execute_result"
    },
    {
     "data": {
      "image/png": "[encoded data removed]",
      "text/plain": [
       "<Figure size 576x360 with 1 Axes>"
      ]
     },
     "metadata": {
      "needs_background": "light"
     },
     "output_type": "display_data"
    }
   ],
   "source": [
    "plt.figure(figsize=(8,5)) # Figure object with a specific size\n",
    "plt.title(\"Number of Customers\", fontsize=15) #adds a title to the Figure object\n",
    "plt.bar(x=churn_df['Geography'].value_counts().index,\n",
    "        height=churn_df.Geography.value_counts().values, width = 0.4, align = \"edge\", color = \"c\",\n",
    "       edgecolor = \"r\", linewidth = 2, alpha = 0.9, linestyle = \"--\",\n",
    "       label =\"Geography\")"
   ]
  },
  {
   "cell_type": "markdown",
   "id": "8de5251d",
   "metadata": {},
   "source": [
    "## 2. Adjusting xticks and yticks"
   ]
  },
  {
   "cell_type": "code",
   "execution_count": 35,
   "id": "5d0c9a51",
   "metadata": {},
   "outputs": [
    {
     "ename": "TypeError",
     "evalue": "xlabel() missing 1 required positional argument: 'xlabel'",
     "output_type": "error",
     "traceback": [
      "\u001b[1;31m---------------------------------------------------------------------------\u001b[0m",
      "\u001b[1;31mTypeError\u001b[0m                                 Traceback (most recent call last)",
      "Input \u001b[1;32mIn [35]\u001b[0m, in \u001b[0;36m<cell line: 1>\u001b[1;34m()\u001b[0m\n\u001b[1;32m----> 1\u001b[0m \u001b[43mplt\u001b[49m\u001b[38;5;241;43m.\u001b[39;49m\u001b[43mxlabel\u001b[49m\u001b[43m(\u001b[49m\u001b[43mfontsize\u001b[49m\u001b[38;5;241;43m=\u001b[39;49m\u001b[38;5;241;43m12\u001b[39;49m\u001b[43m,\u001b[49m\u001b[43m \u001b[49m\u001b[43mrotation\u001b[49m\u001b[38;5;241;43m=\u001b[39;49m\u001b[38;5;241;43m45\u001b[39;49m\u001b[43m)\u001b[49m\n\u001b[0;32m      2\u001b[0m plt\u001b[38;5;241m.\u001b[39mylabel(ticks\u001b[38;5;241m=\u001b[39mnp\u001b[38;5;241m.\u001b[39marange(\u001b[38;5;241m0\u001b[39m, \u001b[38;5;241m7000\u001b[39m, \u001b[38;5;241m1000\u001b[39m), fontsize\u001b[38;5;241m=\u001b[39m\u001b[38;5;241m12\u001b[39m)\n",
      "\u001b[1;31mTypeError\u001b[0m: xlabel() missing 1 required positional argument: 'xlabel'"
     ]
    }
   ],
   "source": [
    "plt.xlabel(fontsize=12, rotation=45)\n",
    "plt.ylabel(ticks=np.arange(0, 7000, 1000), fontsize=12)"
   ]
  },
  {
   "cell_type": "code",
   "execution_count": 36,
   "id": "d7684592",
   "metadata": {},
   "outputs": [
    {
     "data": {
      "text/plain": [
       "[6.0, 4.0]"
      ]
     },
     "execution_count": 36,
     "metadata": {},
     "output_type": "execute_result"
    }
   ],
   "source": [
    "# The rcParams package of matplotlib is used to store and change the default settings.\n",
    "plt.rcParams.get('figure.figsize')\n",
    "[6.0, 4.0]"
   ]
  },
  {
   "cell_type": "code",
   "execution_count": 38,
   "id": "5470a594",
   "metadata": {},
   "outputs": [],
   "source": [
    "plt.rcParams['figure.figsize'] = (8,5)"
   ]
  },
  {
   "cell_type": "code",
   "execution_count": 39,
   "id": "33021823",
   "metadata": {},
   "outputs": [],
   "source": [
    "plt.rc('xtick', labelsize=12)\n",
    "plt.rc('ytick', labelsize=12)"
   ]
  },
  {
   "cell_type": "markdown",
   "id": "8d5f04e3",
   "metadata": {},
   "source": [
    "## 4. Creating a simple histogram"
   ]
  },
  {
   "cell_type": "code",
   "execution_count": 40,
   "id": "04821306",
   "metadata": {},
   "outputs": [
    {
     "data": {
      "text/plain": [
       "(array([3.623e+03, 6.900e+01, 3.600e+02, 1.173e+03, 2.081e+03, 1.747e+03,\n",
       "        7.290e+02, 1.860e+02, 3.000e+01, 2.000e+00]),\n",
       " array([     0.   ,  25089.809,  50179.618,  75269.427, 100359.236,\n",
       "        125449.045, 150538.854, 175628.663, 200718.472, 225808.281,\n",
       "        250898.09 ]),\n",
       " <BarContainer object of 10 artists>)"
      ]
     },
     "execution_count": 40,
     "metadata": {},
     "output_type": "execute_result"
    },
    {
     "data": {
      "image/png": "[encoded data removed]",
      "text/plain": [
       "<Figure size 576x360 with 1 Axes>"
      ]
     },
     "metadata": {
      "needs_background": "light"
     },
     "output_type": "display_data"
    }
   ],
   "source": [
    "plt.hist(x=churn_df['Balance'])"
   ]
  },
  {
   "cell_type": "markdown",
   "id": "53a93c71",
   "metadata": {},
   "source": [
    "## 5. Customizing the histogram"
   ]
  },
  {
   "cell_type": "code",
   "execution_count": 41,
   "id": "c92f4816",
   "metadata": {},
   "outputs": [
    {
     "data": {
      "text/plain": [
       "Text(0.5, 1.0, 'Distribution on Balance (25000 - 225000)')"
      ]
     },
     "execution_count": 41,
     "metadata": {},
     "output_type": "execute_result"
    },
    {
     "data": {
      "image/png": "[encoded data removed]",
      "text/plain": [
       "<Figure size 576x360 with 1 Axes>"
      ]
     },
     "metadata": {
      "needs_background": "light"
     },
     "output_type": "display_data"
    }
   ],
   "source": [
    "plt.hist(x=churn_df['Balance'], bins=12, color='darkgrey',\n",
    "         range=(25000, 225000))\n",
    "plt.title(\"Distribution on Balance (25000 - 225000)\", fontsize=14)"
   ]
  },
  {
   "cell_type": "markdown",
   "id": "3a9dd27e",
   "metadata": {},
   "source": [
    "## 6. Creating a simple scatter plot"
   ]
  },
  {
   "cell_type": "markdown",
   "id": "29c9f29c",
   "metadata": {},
   "source": [
    " Scatter plots are commonly used to map the relationship between numerical variables. \n",
    "We can visualize the correlation between variables using a scatter plot.there is not a correlation between the age and credit score."
   ]
  },
  {
   "cell_type": "code",
   "execution_count": 44,
   "id": "6e21d76d",
   "metadata": {},
   "outputs": [
    {
     "data": {
      "text/plain": [
       "<matplotlib.collections.PathCollection at 0x1808f5ceec0>"
      ]
     },
     "execution_count": 44,
     "metadata": {},
     "output_type": "execute_result"
    },
    {
     "data": {
      "image/png": "[encoded data removed]",
      "text/plain": [
       "<Figure size 576x360 with 1 Axes>"
      ]
     },
     "metadata": {
      "needs_background": "light"
     },
     "output_type": "display_data"
    }
   ],
   "source": [
    "sample = churn_df.sample(n=200, random_state=42) #small sample\n",
    "plt.scatter(x=sample['CreditScore'], y=sample['Age'])"
   ]
  },
  {
   "cell_type": "markdown",
   "id": "1927b3e6",
   "metadata": {},
   "source": [
    "## 7. Scatter plots with subplots"
   ]
  },
  {
   "cell_type": "code",
   "execution_count": 62,
   "id": "116c5217",
   "metadata": {},
   "outputs": [],
   "source": [
    "#ax = plt.subplots()"
   ]
  },
  {
   "cell_type": "code",
   "execution_count": 63,
   "id": "743c0598",
   "metadata": {},
   "outputs": [
    {
     "ename": "AttributeError",
     "evalue": "'tuple' object has no attribute 'scatter'",
     "output_type": "error",
     "traceback": [
      "\u001b[1;31m---------------------------------------------------------------------------\u001b[0m",
      "\u001b[1;31mAttributeError\u001b[0m                            Traceback (most recent call last)",
      "Input \u001b[1;32mIn [63]\u001b[0m, in \u001b[0;36m<cell line: 2>\u001b[1;34m()\u001b[0m\n\u001b[0;32m      1\u001b[0m plt\u001b[38;5;241m.\u001b[39mtitle(\u001b[38;5;124m\"\u001b[39m\u001b[38;5;124mFrance vs Germany\u001b[39m\u001b[38;5;124m\"\u001b[39m, fontsize\u001b[38;5;241m=\u001b[39m\u001b[38;5;241m14\u001b[39m)\n\u001b[1;32m----> 2\u001b[0m \u001b[43max\u001b[49m\u001b[38;5;241;43m.\u001b[39;49m\u001b[43mscatter\u001b[49m(x\u001b[38;5;241m=\u001b[39msample[sample\u001b[38;5;241m.\u001b[39mGeography \u001b[38;5;241m==\u001b[39m \u001b[38;5;124m'\u001b[39m\u001b[38;5;124mFrance\u001b[39m\u001b[38;5;124m'\u001b[39m][\u001b[38;5;124m'\u001b[39m\u001b[38;5;124mCreditScore\u001b[39m\u001b[38;5;124m'\u001b[39m], y\u001b[38;5;241m=\u001b[39msample[sample\u001b[38;5;241m.\u001b[39mGeography \u001b[38;5;241m==\u001b[39m \u001b[38;5;124m'\u001b[39m\u001b[38;5;124mFrance\u001b[39m\u001b[38;5;124m'\u001b[39m][\u001b[38;5;124m'\u001b[39m\u001b[38;5;124mAge\u001b[39m\u001b[38;5;124m'\u001b[39m])\n\u001b[0;32m      3\u001b[0m ax\u001b[38;5;241m.\u001b[39mscatter(x\u001b[38;5;241m=\u001b[39msample[sample\u001b[38;5;241m.\u001b[39mGeography \u001b[38;5;241m==\u001b[39m \u001b[38;5;124m'\u001b[39m\u001b[38;5;124mGermany\u001b[39m\u001b[38;5;124m'\u001b[39m][\u001b[38;5;124m'\u001b[39m\u001b[38;5;124mCreditScore\u001b[39m\u001b[38;5;124m'\u001b[39m], y\u001b[38;5;241m=\u001b[39msample[sample\u001b[38;5;241m.\u001b[39mGeography \u001b[38;5;241m==\u001b[39m \u001b[38;5;124m'\u001b[39m\u001b[38;5;124mGermany\u001b[39m\u001b[38;5;124m'\u001b[39m][\u001b[38;5;124m'\u001b[39m\u001b[38;5;124mAge\u001b[39m\u001b[38;5;124m'\u001b[39m])\n\u001b[0;32m      4\u001b[0m ax\u001b[38;5;241m.\u001b[39mlegend(labels\u001b[38;5;241m=\u001b[39m[\u001b[38;5;124m'\u001b[39m\u001b[38;5;124mFrance\u001b[39m\u001b[38;5;124m'\u001b[39m,\u001b[38;5;124m'\u001b[39m\u001b[38;5;124mGermany\u001b[39m\u001b[38;5;124m'\u001b[39m], loc\u001b[38;5;241m=\u001b[39m\u001b[38;5;124m'\u001b[39m\u001b[38;5;124mlower left\u001b[39m\u001b[38;5;124m'\u001b[39m, fontsize\u001b[38;5;241m=\u001b[39m\u001b[38;5;241m12\u001b[39m)\n",
      "\u001b[1;31mAttributeError\u001b[0m: 'tuple' object has no attribute 'scatter'"
     ]
    },
    {
     "data": {
      "image/png": "[encoded data removed]",
      "text/plain": [
       "<Figure size 576x360 with 1 Axes>"
      ]
     },
     "metadata": {
      "needs_background": "light"
     },
     "output_type": "display_data"
    }
   ],
   "source": [
    "plt.title(\"France vs Germany\", fontsize=14)\n",
    "ax.scatter(x=sample[sample.Geography == 'France']['CreditScore'], y=sample[sample.Geography == 'France']['Age'])\n",
    "ax.scatter(x=sample[sample.Geography == 'Germany']['CreditScore'], y=sample[sample.Geography == 'Germany']['Age'])\n",
    "ax.legend(labels=['France','Germany'], loc='lower left', fontsize=12)"
   ]
  },
  {
   "cell_type": "markdown",
   "id": "6e590d68",
   "metadata": {},
   "source": [
    "## 8. Grid of subplots"
   ]
  },
  {
   "cell_type": "code",
   "execution_count": 61,
   "id": "f2145e4a",
   "metadata": {},
   "outputs": [],
   "source": [
    "#(ax1, ax2, ax3) = plt.subplots(nrows=3, ncols=1)"
   ]
  },
  {
   "cell_type": "markdown",
   "id": "cb86fb9e",
   "metadata": {},
   "source": [
    "## 9. Rearranging and accessing the subplots"
   ]
  },
  {
   "cell_type": "code",
   "execution_count": 52,
   "id": "8b116637",
   "metadata": {},
   "outputs": [
    {
     "data": {
      "image/png": "[encoded data removed]",
      "text/plain": [
       "<Figure size 648x432 with 3 Axes>"
      ]
     },
     "metadata": {
      "needs_background": "light"
     },
     "output_type": "display_data"
    }
   ],
   "source": [
    "fig, (ax1, ax2, ax3) = plt.subplots(nrows=3, ncols=1, figsize=(9,6), sharex=True)\n",
    "fig.tight_layout(pad=2)"
   ]
  },
  {
   "cell_type": "code",
   "execution_count": null,
   "id": "b6e3d50c",
   "metadata": {},
   "outputs": [],
   "source": [
    "# 1\n",
    "fig, (ax1, ax2) = plt.subplots(nrows=2, ncols=1)\n",
    "first subplot: ax1\n",
    "first subplot: ax2\n",
    "# 2\n",
    "fig, axs = plt.subplots(nrows=2, ncols=1)\n",
    "first subplot: axs[0]\n",
    "second subplot: axs[1]"
   ]
  },
  {
   "cell_type": "markdown",
   "id": "24d9260b",
   "metadata": {},
   "source": [
    "## 10. Drawing the subplots"
   ]
  },
  {
   "cell_type": "code",
   "execution_count": 55,
   "id": "20f9fc15",
   "metadata": {},
   "outputs": [
    {
     "data": {
      "text/plain": [
       "Text(0.5, 1.0, 'Number of Products')"
      ]
     },
     "execution_count": 55,
     "metadata": {},
     "output_type": "execute_result"
    },
    {
     "data": {
      "image/png": "[encoded data removed]",
      "text/plain": [
       "<Figure size 576x360 with 2 Axes>"
      ]
     },
     "metadata": {
      "needs_background": "light"
     },
     "output_type": "display_data"
    }
   ],
   "source": [
    "fig, (ax1, ax2) = plt.subplots(nrows=1, ncols=2, sharey=True,\n",
    "figsize=(8,5))\n",
    "countries = churn_df.Geography.value_counts()\n",
    "products = churn_df.NumOfProducts.value_counts()\n",
    "ax1.bar(x=countries.index, height=countries.values)\n",
    "ax1.set_title(\"Countries\", fontsize=12)\n",
    "ax2.bar(x=products.index, height=products.values)\n",
    "ax2.set_title(\"Number of Products\", fontsize=12)"
   ]
  },
  {
   "cell_type": "markdown",
   "id": "afe9bbaa",
   "metadata": {},
   "source": [
    "## 11. Creating a 2-D histogram"
   ]
  },
  {
   "cell_type": "code",
   "execution_count": 58,
   "id": "0b8fb4be",
   "metadata": {},
   "outputs": [
    {
     "data": {
      "text/plain": [
       "(array([[  0.,   3.,   4.,   5.,   5.,   2.,   0.,   0.,   0.,   0.],\n",
       "        [  7.,  29.,  66.,  26.,  18.,  14.,   4.,   1.,   1.,   0.],\n",
       "        [ 30., 100., 176.,  68.,  39.,  23.,   7.,   4.,   0.,   0.],\n",
       "        [ 65., 210., 331., 188.,  76.,  48.,  27.,  11.,   1.,   1.],\n",
       "        [ 82., 324., 521., 275., 124.,  78.,  27.,  13.,   0.,   0.],\n",
       "        [107., 395., 659., 366., 175.,  98.,  34.,  28.,   4.,   0.],\n",
       "        [120., 431., 713., 366., 142.,  99.,  48.,  27.,   6.,   0.],\n",
       "        [111., 312., 558., 295., 127.,  72.,  30.,  15.,   4.,   1.],\n",
       "        [ 55., 221., 357., 168.,  77.,  51.,  18.,  18.,   1.,   2.],\n",
       "        [ 34., 154., 244., 114.,  45.,  38.,  13.,  10.,   3.,   0.]]),\n",
       " array([350., 400., 450., 500., 550., 600., 650., 700., 750., 800., 850.]),\n",
       " array([18. , 25.4, 32.8, 40.2, 47.6, 55. , 62.4, 69.8, 77.2, 84.6, 92. ]),\n",
       " <matplotlib.collections.QuadMesh at 0x18090f2c730>)"
      ]
     },
     "execution_count": 58,
     "metadata": {},
     "output_type": "execute_result"
    },
    {
     "data": {
      "image/png": "[encoded data removed]",
      "text/plain": [
       "<Figure size 576x360 with 1 Axes>"
      ]
     },
     "metadata": {
      "needs_background": "light"
     },
     "output_type": "display_data"
    }
   ],
   "source": [
    "plt.title(\"Credit Score vs Age\", fontsize=15)\n",
    "plt.hist2d(x=churn_df.CreditScore, y=churn_df.Age)"
   ]
  },
  {
   "cell_type": "code",
   "execution_count": 60,
   "id": "97568923",
   "metadata": {},
   "outputs": [],
   "source": [
    "#The most populated group consists of the customers between ages 30 and 40 and \n",
    "#have credit scores between 600 and 700."
   ]
  },
  {
   "cell_type": "code",
   "execution_count": null,
   "id": "7828b7f8",
   "metadata": {},
   "outputs": [],
   "source": []
  }
 ],
 "metadata": {
  "kernelspec": {
   "display_name": "Python 3 (ipykernel)",
   "language": "python",
   "name": "python3"
  },
  "language_info": {
   "codemirror_mode": {
    "name": "ipython",
    "version": 3
   },
   "file_extension": ".py",
   "mimetype": "text/x-python",
   "name": "python",
   "nbconvert_exporter": "python",
   "pygments_lexer": "ipython3",
   "version": "3.10.4"
  }
 },
 "nbformat": 4,
 "nbformat_minor": 5
}
